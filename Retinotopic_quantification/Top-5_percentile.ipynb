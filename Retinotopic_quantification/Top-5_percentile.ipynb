{
 "cells": [
  {
   "cell_type": "code",
   "execution_count": 48,
   "id": "89fe4ad5-164f-40f3-af79-72aff4747748",
   "metadata": {},
   "outputs": [
    {
     "name": "stdout",
     "output_type": "stream",
     "text": [
      "The threshold to keep the top 5.0% of pixels is: 0.641\n"
     ]
    }
   ],
   "source": [
    "## import pandas as pd\n",
    "\n",
    "def get_threshold_from_histogram_csv(csv_file, percentage):\n",
    "    \"\"\"\n",
    "    Calculates the intensity threshold from a histogram CSV file to keep the top 'percentage' of pixels.\n",
    "\n",
    "    Args:\n",
    "        csv_file (str): Path to the CSV file containing the histogram data.\n",
    "        percentage (float): The percentage of top intensity pixels to keep (e.g., 5.0 for 5%).\n",
    "\n",
    "    Returns:\n",
    "        float: The intensity threshold value.\n",
    "    \"\"\"\n",
    "\n",
    "    try:\n",
    "        # Load the histogram data from the CSV file using pandas\n",
    "        df = pd.read_csv(csv_file)\n",
    "\n",
    "        # Calculate the total number of pixels\n",
    "        total_pixels = df['count'].sum()\n",
    "\n",
    "        # Calculate the number of pixels to keep\n",
    "        pixels_to_keep = int(total_pixels * (percentage / 100.0))\n",
    "\n",
    "        # Find the threshold\n",
    "        threshold = 0\n",
    "        cumulative_count = 0\n",
    "        for index, row in df.sort_values('bin start', ascending=False).iterrows():\n",
    "            cumulative_count += row['count']\n",
    "            if cumulative_count >= pixels_to_keep:\n",
    "                threshold = row['bin start']\n",
    "                break\n",
    "\n",
    "        return threshold\n",
    "\n",
    "    except FileNotFoundError:\n",
    "        print(f\"Error: File not found: {csv_file}\")\n",
    "        return None\n",
    "    except Exception as e:\n",
    "        print(f\"An error occurred: {e}\")\n",
    "        return None\n",
    "\n",
    "# --- Example Usage ---\n",
    "csv_file = 'Histogram of C2-Probabilitymaps.csv'  # Replace with your CSV file path\n",
    "percentage_to_keep = 5.0  # Keep the top 5% of pixels\n",
    "\n",
    "threshold = get_threshold_from_histogram_csv(csv_file, percentage_to_keep)\n",
    "\n",
    "if threshold is not None:\n",
    "    print(f\"The threshold to keep the top {percentage_to_keep}% of pixels is: {threshold}\")"
   ]
  },
  {
   "cell_type": "code",
   "execution_count": null,
   "id": "24a2c08f-91a9-43c2-94ed-3e5765f97445",
   "metadata": {},
   "outputs": [],
   "source": []
  }
 ],
 "metadata": {
  "kernelspec": {
   "display_name": "Python 3 (ipykernel)",
   "language": "python",
   "name": "python3"
  },
  "language_info": {
   "codemirror_mode": {
    "name": "ipython",
    "version": 3
   },
   "file_extension": ".py",
   "mimetype": "text/x-python",
   "name": "python",
   "nbconvert_exporter": "python",
   "pygments_lexer": "ipython3",
   "version": "3.11.9"
  }
 },
 "nbformat": 4,
 "nbformat_minor": 5
}
